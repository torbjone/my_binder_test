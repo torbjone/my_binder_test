{
 "cells": [
  {
   "cell_type": "markdown",
   "metadata": {},
   "source": [
    "# COMPUTATIONAL ANALYSIS\n",
    "Here you will compute physiological data based on multicompartmental modeling. We start with a ball-and-stick model, and move on to the cell model from Almog & Korngreen (2014) (http://www.jneurosci.org/content/34/1/182.long).\n",
    "\n",
    "## How to use Ipython Notebook:\n",
    "You can modify the parameters in the code blocks bellow, and run the code by pressing Shift + Enter.\n",
    "\n",
    "While the computer is busy executing the code, a \"Kernel busy\" message will be visible on the top. When this message disappears, it is done, and the figure will reapear if something was plotted. \n",
    "\n",
    "## Ball and stick neuron"
   ]
  },
  {
   "cell_type": "code",
   "execution_count": null,
   "metadata": {
    "collapsed": false
   },
   "outputs": [],
   "source": [
    "# Initialize and prepare\n",
    "%load_ext autoreload\n",
    "%matplotlib inline\n",
    "%autoreload 2\n",
    "import os\n",
    "os.system('nrnivmodl')\n",
    "import pylab as plt\n",
    "import neuron\n",
    "h = neuron.h\n",
    "\n",
    "# Specially interested users are encuraged to also modify the following file, to access more parameters.\n",
    "from CompAnalysis import *  "
   ]
  },
  {
   "cell_type": "code",
   "execution_count": null,
   "metadata": {
    "collapsed": false
   },
   "outputs": [],
   "source": [
    "soma = h.Section('soma')\n",
    "soma.L = 15  # um; stored as a float number\n",
    "soma.diam = 15  # um\n",
    "soma.nseg = 1  # Number of discrete segments. Stored as an integer\n",
    "\n",
    "dend = h.Section('dend')\n",
    "dend.L = 1000\n",
    "dend.diam = 2\n",
    "dend.nseg = int(dend.L/10)\n",
    "\n",
    "dend.connect(soma, 1, 0)\n",
    "\n",
    "dend.insert('hh')\n",
    "soma.insert('hh')\n",
    "        \n",
    "# Making stimulation\n",
    "input_site = dend(0.)\n",
    "stim = h.IClamp(input_site)\n",
    "stim.delay = 10\n",
    "stim.amp = 0.5\n",
    "stim.dur = 100\n",
    "\n",
    "# What to record\n",
    "recording_site = soma(0.5)\n",
    "t = h.Vector()\n",
    "t.record(h._ref_t)\n",
    "v = h.Vector()\n",
    "v.record(recording_site._ref_v)\n",
    "\n",
    "h.dt = 2**-4\n",
    "h.finitialize(-65)\n",
    "neuron.init()\n",
    "neuron.run(50)\n",
    "\n",
    "plt.plot(t, v)\n",
    "plt.show()\n",
    "\n",
    "del soma, dend, stim, recording_site, input_site, t, v"
   ]
  },
  {
   "cell_type": "markdown",
   "metadata": {},
   "source": [
    "## Somatic and dendritic spikes\n",
    " In this exercise you will look at somatic and dendritic spikes by changing the 'amp' parameter for the somatic and apical input. You might benefit more from this exercise if you have some knowledge of the paper from Almog & Korngreen (2014).\n",
    " \n",
    " 1. How much somatic input is required to have \n",
    "  * only a somatic spike\n",
    "  * both a somatic and a dendritic spike\n",
    " 2. How much apical input is required to have \n",
    "  * only a dendritic spike\n",
    "  * both a dendritic and a somatic spike\n",
    " 3. Now use current input at both positions. What is the minimum total amount of current you need to get both dendritic and somatic spiking? \n",
    "  * How are they distributed?"
   ]
  },
  {
   "cell_type": "code",
   "execution_count": null,
   "metadata": {
    "collapsed": false
   },
   "outputs": [],
   "source": [
    "\n",
    "\n",
    "# Parameters for step pulse input to soma and apical dendrite\n",
    "soma_clamp_params = {\n",
    "    'idx': 0,  # Cell index of soma\n",
    "    'record_current': True,\n",
    "    'amp': 0.0, # [nA] Current injected in soma\n",
    "    'dur': 30., # [ms] Duration of pulse\n",
    "    'delay': 3, # [ms] Delay before pulse onset\n",
    "    'pptype': 'IClamp',\n",
    "    }\n",
    "apic_clamp_params = {\n",
    "    'record_current': True,\n",
    "    'amp': 0.6,  # [nA] Current injected in apical dendrite\n",
    "    'dur': 30., # [ms] Duration of pulse\n",
    "    'delay': 3, # [ms] Delay before pulse onset\n",
    "    'pptype': 'IClamp',\n",
    "    }\n",
    "\n",
    "exercise1(soma_clamp_params, apic_clamp_params)"
   ]
  },
  {
   "cell_type": "markdown",
   "metadata": {},
   "source": [
    "## Extracellular spikes\n",
    "This exercise uses LFPy (http://lfpy.github.io/) to calculate the extracellular potential based on the cell model from the previous exercise.\n",
    "\n",
    "  * Compare the extracellular spikes with and without a noise-level of 15 µV\n",
    "  * By simple visual inspection, roughly how far away from the soma is the spike visible?\n",
    "  * Look at different positions around soma. Heights, distances etc. How does the spike change? \n",
    "  * Is it possible to see the dendritic spike on the recordings? If not, can you explain why?\n"
   ]
  },
  {
   "cell_type": "code",
   "execution_count": null,
   "metadata": {
    "collapsed": false
   },
   "outputs": [],
   "source": [
    "blockPrint()\n",
    "\n",
    "# Parameters for step pulse input to soma and apical dendrite\n",
    "soma_clamp_params = {\n",
    "    'idx': 0,  # Cell index of soma\n",
    "    'record_current': True,\n",
    "    'amp': 0.6, # [nA] Current injected in soma\n",
    "    'dur': 30., # [ms] Duration of pulse\n",
    "    'delay': 10, # [ms] Delay before pulse onset\n",
    "    'pptype': 'IClamp',\n",
    "    }\n",
    "apic_clamp_params = {\n",
    "    'record_current': True,\n",
    "    'amp': 0.2,  # [nA] Current injected in apical dendrite\n",
    "    'dur': 30., # [ms] Duration of pulse\n",
    "    'delay': 10, # [ms] Delay before pulse onset\n",
    "    'pptype': 'IClamp',\n",
    "    }\n",
    "\n",
    "# Making x,y,z coordinates of three electrodes\n",
    "elec_x = np.array([-50., -50., -50.])\n",
    "elec_y = np.array([0., 500., 750.])\n",
    "elec_z = np.array([0.0, 0.0, 0.0])\n",
    "electrode_parameters = {\n",
    "    'sigma': 0.3,       # extracellular conductivity\n",
    "    'x': elec_x,        # x,y,z-coordinates of contact points\n",
    "    'y': elec_y,\n",
    "    'z': elec_z,\n",
    "}\n",
    "noise_level = 0 # [uV] Noise level that is added to extracellular recordings\n",
    "\n",
    "exercise2(soma_clamp_params, apic_clamp_params, electrode_parameters, noise_level)"
   ]
  },
  {
   "cell_type": "markdown",
   "metadata": {},
   "source": [
    "## Deep Brain Stimulation\n",
    "You will now look at how a single cell reacts to current injected in the extracellular medium. You can change the position, amplitude and duration of the pulse."
   ]
  },
  {
   "cell_type": "code",
   "execution_count": null,
   "metadata": {
    "collapsed": false
   },
   "outputs": [],
   "source": [
    "dbs_params = {'position': [-50., 200., 0.],\n",
    "              'amp': 5, # uA,\n",
    "              'start_time': 10.,\n",
    "              'end_time': 15.,\n",
    "              }\n",
    "exercise_DBS(dbs_params)"
   ]
  },
  {
   "cell_type": "markdown",
   "metadata": {},
   "source": [
    "## Single cell LFPs\n",
    "We will now look at a cross section of the LFP (i.e. no spiking) stemming from a single synaptic input to either a cortical L5 pyramidal cell, or a Fast Spiking Basket Cell. The LFP is shown for a snapshot in time when the somatic membrane potential is at its maximum. \n",
    "\n",
    " * Look at the LFP around a pyramidal cell (model='almog'). Could this single cell LFP be experimentally measured? Hint: Compare to spike and noise level from previous exercise.\n",
    " * Try a few different input positions (input_y_pos), and look at how the shape of the LFP changes. Usefull concepts here are dipoles versus multipoles.\n"
   ]
  },
  {
   "cell_type": "code",
   "execution_count": null,
   "metadata": {
    "collapsed": false
   },
   "outputs": [],
   "source": [
    "input_y_pos = 0\n",
    "model = 'almog'  # This should be either 'FS_basket' or 'almog'\n",
    "exercise3(model, input_y_pos)"
   ]
  },
  {
   "cell_type": "markdown",
   "metadata": {},
   "source": [
    " * Look at the LFP in a cross-section plane around a Fast Spiking Basket cell (model='FS_basket'). Try a few different positions. How does the LFP distribution change?\n"
   ]
  },
  {
   "cell_type": "code",
   "execution_count": null,
   "metadata": {
    "collapsed": false
   },
   "outputs": [],
   "source": [
    "input_y_pos = 0\n",
    "model = 'FS_basket'  # This should be either 'FS_basket' or 'almog'\n",
    "exercise3(model, input_y_pos)"
   ]
  },
  {
   "cell_type": "markdown",
   "metadata": {},
   "source": [
    " * The LFP mostly stems from a very large number of synaptic inputs to thousands of cells. From the single cell LFPs you have seen for these two cell types, can you speculate which will have the largest contribution to the LFP? (Hint 1: Amplitude decay with distance. Hint 2: Cell orientation)"
   ]
  },
  {
   "cell_type": "markdown",
   "metadata": {},
   "source": [
    "## LFP in the frequency domain\n",
    "\n",
    "Here we will look at the single cell LFP stemming from white noise input to a cortical L5 pyramidal cell. White noise input means equal amplitude at all frequencies (i.e. equally much slow changes as fast changes) in the input current. The top row shows the normal time signals, and the bottom row shows the same signals with amplitude as a function of frequency.\n",
    "\n",
    "* How does the frequency spectrum of the LFP change with increasing distance from the input? Can you explain the effect that you see?\n",
    "\n",
    "More information on this can be found in this modelling study:\n",
    "http://link.springer.com/article/10.1007%2Fs10827-010-0245-4"
   ]
  },
  {
   "cell_type": "code",
   "execution_count": null,
   "metadata": {
    "collapsed": false
   },
   "outputs": [],
   "source": [
    "input_y_pos = 0\n",
    "\n",
    "# Making x,y,z coordinates of three electrodes\n",
    "elec_x = np.array([100., 100., 100.])\n",
    "elec_y = np.array([0., 500., 1000.])\n",
    "elec_z = np.array([0.0, 0.0, 0.0])\n",
    "electrode_parameters = {\n",
    "    'sigma': 0.3,       # extracellular conductivity\n",
    "    'x': elec_x,        # x,y,z-coordinates of contact points\n",
    "    'y': elec_y,\n",
    "    'z': elec_z,\n",
    "}\n",
    "exercise4(electrode_parameters, input_y_pos)"
   ]
  },
  {
   "cell_type": "code",
   "execution_count": null,
   "metadata": {
    "collapsed": false
   },
   "outputs": [],
   "source": []
  }
 ],
 "metadata": {
  "kernelspec": {
   "display_name": "Python 2",
   "language": "python",
   "name": "python2"
  },
  "language_info": {
   "codemirror_mode": {
    "name": "ipython",
    "version": 2
   },
   "file_extension": ".py",
   "mimetype": "text/x-python",
   "name": "python",
   "nbconvert_exporter": "python",
   "pygments_lexer": "ipython2",
   "version": "2.7.11"
  }
 },
 "nbformat": 4,
 "nbformat_minor": 0
}
